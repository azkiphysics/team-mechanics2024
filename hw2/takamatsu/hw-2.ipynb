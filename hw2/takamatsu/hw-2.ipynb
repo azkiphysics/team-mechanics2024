{
 "cells": [
  {
   "cell_type": "markdown",
   "metadata": {},
   "source": [
    "課題1"
   ]
  },
  {
   "cell_type": "code",
   "execution_count": 6,
   "metadata": {},
   "outputs": [
    {
     "name": "stdout",
     "output_type": "stream",
     "text": [
      "xは整数ではありません\n",
      "xは整数ではありません\n",
      "xは整数ではありません\n",
      "xは整数ではありません\n",
      "1\n"
     ]
    }
   ],
   "source": [
    "while True:\n",
    "    x = input(\"整数を入力してください：\")\n",
    "    try:\n",
    "        assert \".\" not in x\n",
    "        x = int(x)\n",
    "        break\n",
    "    except (ValueError, AssertionError):\n",
    "        print(\"xは整数ではありません\")\n",
    "        continue\n",
    "\n",
    "\n",
    "if x < 0:\n",
    "\n",
    "    print(0)\n",
    "\n",
    "\n",
    "elif x > 0:\n",
    "\n",
    "    print(1)\n",
    "\n",
    "\n",
    "else:\n",
    "\n",
    "    print(2)"
   ]
  },
  {
   "cell_type": "markdown",
   "metadata": {},
   "source": [
    "課題2-1"
   ]
  },
  {
   "cell_type": "code",
   "execution_count": 3,
   "metadata": {},
   "outputs": [
    {
     "name": "stdout",
     "output_type": "stream",
     "text": [
      "mechanics 9\n",
      "space_mission 13\n",
      "machine_learning 16\n",
      "complex_system 14\n"
     ]
    }
   ],
   "source": [
    "words = [\"mechanics\", \"space_mission\", \"machine_learning\", \"complex_system\"]\n",
    "for word in words:\n",
    "    print(word, len(word))"
   ]
  },
  {
   "cell_type": "markdown",
   "metadata": {},
   "source": [
    "課題2-2"
   ]
  },
  {
   "cell_type": "code",
   "execution_count": 4,
   "metadata": {},
   "outputs": [
    {
     "name": "stdout",
     "output_type": "stream",
     "text": [
      "20\n"
     ]
    }
   ],
   "source": [
    "if __name__ == \"__main__\":\n",
    "    answer = 0\n",
    "\n",
    "    for i in range(10):\n",
    "        if i % 2 == 0:\n",
    "            answer += i\n",
    "    print(answer)"
   ]
  },
  {
   "cell_type": "markdown",
   "metadata": {},
   "source": [
    "課題3"
   ]
  },
  {
   "cell_type": "code",
   "execution_count": 5,
   "metadata": {},
   "outputs": [
    {
     "name": "stdout",
     "output_type": "stream",
     "text": [
      "10\n"
     ]
    }
   ],
   "source": [
    "if __name__ == \"__main__\":\n",
    "    n = 0\n",
    "\n",
    "    while 2**n <= 1000:\n",
    "        n += 1\n",
    "\n",
    "    print(n)"
   ]
  },
  {
   "cell_type": "markdown",
   "metadata": {},
   "source": [
    "課題3のif文ver."
   ]
  },
  {
   "cell_type": "code",
   "execution_count": 28,
   "metadata": {},
   "outputs": [
    {
     "name": "stdout",
     "output_type": "stream",
     "text": [
      "10\n"
     ]
    }
   ],
   "source": [
    "n = 0\n",
    "for n in range(1000):\n",
    "    if 2**n > 1000:\n",
    "        break\n",
    "print(n)"
   ]
  }
 ],
 "metadata": {
  "kernelspec": {
   "display_name": "envi1",
   "language": "python",
   "name": "python3"
  },
  "language_info": {
   "codemirror_mode": {
    "name": "ipython",
    "version": 3
   },
   "file_extension": ".py",
   "mimetype": "text/x-python",
   "name": "python",
   "nbconvert_exporter": "python",
   "pygments_lexer": "ipython3",
   "version": "3.11.9"
  }
 },
 "nbformat": 4,
 "nbformat_minor": 2
}
